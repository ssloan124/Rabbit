{
 "cells": [
  {
   "cell_type": "markdown",
   "metadata": {},
   "source": [
    "### Import Libraries"
   ]
  },
  {
   "cell_type": "code",
   "execution_count": null,
   "metadata": {},
   "outputs": [],
   "source": [
    "from rabbit_clients import publish_message, consume_message\n",
    "import pandas_profiling\n",
    "import pandas as pd\n",
    "import datetime\n",
    "import re\n",
    "import numpy as np\n",
    "import os\n",
    "os.getcwd()\n",
    "pip freeze |grep rabbit"
   ]
  },
  {
   "cell_type": "markdown",
   "metadata": {},
   "source": [
    "### Dummy Case"
   ]
  },
  {
   "cell_type": "code",
   "execution_count": null,
   "metadata": {},
   "outputs": [],
   "source": [
    "@publish_message(queue='test')\n",
    "def publish_greeting():\n",
    "    message={'greeting':'yo'}\n",
    "    return message\n",
    "\n",
    "@consume_message(consume_queue='test')\n",
    "def consume_greeting(message_dict):\n",
    "    print(message_dict)\n",
    "\n",
    "if __name__ == '__main__':\n",
    "    publish_greeting()\n",
    "    consume_greeting()"
   ]
  },
  {
   "cell_type": "markdown",
   "metadata": {},
   "source": [
    "### Using PIKA directly"
   ]
  },
  {
   "cell_type": "code",
   "execution_count": null,
   "metadata": {},
   "outputs": [],
   "source": [
    "import pika\n",
    "connection = pika.BlockingConnection(pika.ConnectionParameters('rabbit'))\n",
    "channel = connection.channel()\n",
    "channel.queue_declare(queue='hello')\n",
    "channel.basic_publish(exchange='',\n",
    "                      routing_key='hello',\n",
    "                      body='Hello World!')\n",
    "print(\" [x] Sent 'Hello World!'\")\n",
    "\n",
    "def callback(ch, method, properties, body):\n",
    "    print(\" [x] Received %r\" % body)\n",
    "\n",
    "channel.basic_consume(\n",
    "    queue='hello', on_message_callback=callback, auto_ack=True)\n",
    "\n",
    "print(' [*] Waiting for messages. To exit press CTRL+C')\n",
    "channel.start_consuming()\n",
    "connection.close()"
   ]
  },
  {
   "cell_type": "markdown",
   "metadata": {},
   "source": [
    "### Profiler Case"
   ]
  },
  {
   "cell_type": "markdown",
   "metadata": {},
   "source": [
    "##### Publish test message"
   ]
  },
  {
   "cell_type": "code",
   "execution_count": null,
   "metadata": {},
   "outputs": [],
   "source": [
    "@publish_message(queue='profiler')\n",
    "def publish_profiler_message():\n",
    "    conmessage={\n",
    "            \"fileid\" : \"1234\",\n",
    "            \"filename\" : 'iris.csv',\n",
    "            \"username\" : 'PConsuela',\n",
    "            \"datetime\" : datetime.datetime.now(),\n",
    "            \"fileloc\" : \"/home/jovyan/work\"\n",
    "    }\n",
    "    return conmessage"
   ]
  },
  {
   "cell_type": "markdown",
   "metadata": {},
   "source": [
    "##### Consume test message and grep file locations (infile and outfile)"
   ]
  },
  {
   "cell_type": "code",
   "execution_count": null,
   "metadata": {},
   "outputs": [],
   "source": [
    "@consume_message(consume_queue='profiler', production_ready = False)\n",
    "def get_filelocs(message_dict):\n",
    "    fileloc=message_dict['fileloc']+'/'+message_dict['filename']\n",
    "    infiletype=message_dict['filename'].split(\".\",1)[1]\n",
    "    return_filename=message_dict['filename'].split(\".\",1)[0]+\"_profile.html\"\n",
    "    return message_dict, fileloc, infiletype, return_filename"
   ]
  },
  {
   "cell_type": "markdown",
   "metadata": {},
   "source": [
    "##### Error message template"
   ]
  },
  {
   "cell_type": "code",
   "execution_count": null,
   "metadata": {},
   "outputs": [],
   "source": [
    "@publish_message(queue='error')\n",
    "def send_error_message(err, message_dict):\n",
    "    message = {\n",
    "        \"fileid\": message_dict[\"fileid\"],\n",
    "        \"filename\": message_dict[\"filename\"],\n",
    "        \"username\": message_dict[\"username\"],\n",
    "        \"datetime\": str(datetime.datetime.now()),\n",
    "        \"fileloc\": message_dict[\"fileloc\"],\n",
    "        \"message\": err\n",
    "        }\n",
    "    return message"
   ]
  },
  {
   "cell_type": "markdown",
   "metadata": {},
   "source": [
    "##### Profiler complete message template"
   ]
  },
  {
   "cell_type": "code",
   "execution_count": null,
   "metadata": {},
   "outputs": [],
   "source": [
    "@publish_message(queue='file_ready')\n",
    "def send_complete_message(message_dict):\n",
    "    return_message = {\n",
    "        \"fileid\": message_dict[\"fileid\"]+\"_profile\",\n",
    "        \"filename\": return_filename,\n",
    "        \"username\": message_dict[\"username\"],\n",
    "        \"datetime\": str(datetime.datetime.now()),\n",
    "        \"fileloc\": message_dict[\"fileloc\"]\n",
    "    }\n",
    "    return return_message"
   ]
  },
  {
   "cell_type": "markdown",
   "metadata": {},
   "source": [
    "##### Read in file"
   ]
  },
  {
   "cell_type": "code",
   "execution_count": null,
   "metadata": {},
   "outputs": [],
   "source": [
    "def read_file(message_dict, fileloc, infiletype):\n",
    "    data=[]\n",
    "    try:\n",
    "        if infiletype == 'txt':\n",
    "            with open(fileloc, 'r') as f:\n",
    "                data.append(f.read())\n",
    "        elif infiletype in ('xls', 'xlsx'):\n",
    "            data = pd.read_excel(fileloc)\n",
    "        else:\n",
    "            data = pd.read_csv(fileloc)\n",
    "        df=pd.DataFrame(data)\n",
    "    except FileNotFoundError:\n",
    "        df=None\n",
    "        send_error_message(\"File does not exist\", message_dict)\n",
    "    except pd.errors.ParserError:\n",
    "        df=None\n",
    "        send_error_message(\"Unacceptable file type.  Accepted file types are .csv, .txt, .xls and .xlsx\", message_dict)\n",
    "    return df"
   ]
  },
  {
   "cell_type": "markdown",
   "metadata": {},
   "source": [
    "##### Run profiler"
   ]
  },
  {
   "cell_type": "code",
   "execution_count": null,
   "metadata": {},
   "outputs": [],
   "source": [
    "def profile(df, message_dict):\n",
    "    try:\n",
    "        profile=df.profile_report()\n",
    "    except AttributeError:\n",
    "        profile=None\n",
    "        send_error_message(\"Profiler could not complete\", message_dict)\n",
    "    return profile"
   ]
  },
  {
   "cell_type": "markdown",
   "metadata": {},
   "source": [
    "##### Write profile to .html file in same directory"
   ]
  },
  {
   "cell_type": "code",
   "execution_count": null,
   "metadata": {},
   "outputs": [],
   "source": [
    "def write_file(profile, return_filename, message_dict):\n",
    "    try:\n",
    "        profile.to_file(output_file=return_filename)  \n",
    "        send_complete_message(message_dict, return_filename)\n",
    "    except:\n",
    "        send_error_message(\"Profile could not be written\", message_dict)"
   ]
  },
  {
   "cell_type": "markdown",
   "metadata": {},
   "source": [
    "##### Order: \n",
    "1. publish, \n",
    "2. consume (and get file locations), \n",
    "3. read file, \n",
    "4. run profiler, \n",
    "5. write to file"
   ]
  },
  {
   "cell_type": "code",
   "execution_count": null,
   "metadata": {},
   "outputs": [],
   "source": [
    "if __name__ == '__main__':\n",
    "    publish_profiler_message()\n",
    "    filelocs = get_filelocs()\n",
    "    file = read_file(filelocs[0], filelocs[1], filelocs[2])\n",
    "    profile = profile(file, filelocs[0])\n",
    "    write_file(profile, filelocs[3], filelocs[0])"
   ]
  }
 ],
 "metadata": {
  "kernelspec": {
   "display_name": "Python 3",
   "language": "python",
   "name": "python3"
  },
  "language_info": {
   "codemirror_mode": {
    "name": "ipython",
    "version": 3
   },
   "file_extension": ".py",
   "mimetype": "text/x-python",
   "name": "python",
   "nbconvert_exporter": "python",
   "pygments_lexer": "ipython3",
   "version": "3.7.3"
  }
 },
 "nbformat": 4,
 "nbformat_minor": 2
}
